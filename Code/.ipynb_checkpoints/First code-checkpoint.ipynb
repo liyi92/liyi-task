{
 "cells": [
  {
   "cell_type": "code",
   "execution_count": 4,
   "id": "8c909a90-26ed-4201-aeb2-a6299c23d6cc",
   "metadata": {},
   "outputs": [],
   "source": [
    "import torch\n",
    "import torch.nn as nn\n",
    "import torch.nn.functional as F"
   ]
  },
  {
   "cell_type": "code",
   "execution_count": 23,
   "id": "cf6798ca-7d16-48d2-8353-a62326e442cf",
   "metadata": {},
   "outputs": [],
   "source": [
    "class Net(nn.Module):\n",
    "    def __init__(self):\n",
    "        super(Net,self).__init__()\n",
    "        self.conv1 = nn.Conv2d(1,6,5)\n",
    "        self.conv2 = nn.Conv2d(6,16,5)\n",
    "        self.fc1 = nn.Linear(16*5*5,120)\n",
    "        self.fc2 = nn.Linear(120,84)\n",
    "        self.fc3 = nn.Linear(84,10)\n",
    "    def forward(self,x):\n",
    "        x = self.conv1(x)\n",
    "        x = F.relu(x)\n",
    "        x = F.max_pool2d(x,(2,2))\n",
    "        x = F.max_pool2d(F.relu(self.conv2(x)),2)\n",
    "        x = x.view(-1,x.size()[1:].numel())\n",
    "        x = F.relu(self.fc1(x))\n",
    "        x = F.relu(self.fc2(x))\n",
    "        x = self.fc3(x)\n",
    "        return x\n",
    "        \n",
    "        "
   ]
  },
  {
   "cell_type": "code",
   "execution_count": 24,
   "id": "eed33d5d-63bc-425e-b23e-c2809d476d67",
   "metadata": {},
   "outputs": [
    {
     "name": "stdout",
     "output_type": "stream",
     "text": [
      "Net(\n",
      "  (conv1): Conv2d(1, 6, kernel_size=(5, 5), stride=(1, 1))\n",
      "  (conv2): Conv2d(6, 16, kernel_size=(5, 5), stride=(1, 1))\n",
      "  (fc1): Linear(in_features=400, out_features=120, bias=True)\n",
      "  (fc2): Linear(in_features=120, out_features=84, bias=True)\n",
      "  (fc3): Linear(in_features=84, out_features=10, bias=True)\n",
      ")\n"
     ]
    }
   ],
   "source": [
    "net = Net()\n",
    "print(net)"
   ]
  },
  {
   "cell_type": "code",
   "execution_count": 25,
   "id": "9f15140b-8cf7-4463-b9b7-dd7048bb431b",
   "metadata": {},
   "outputs": [
    {
     "name": "stdout",
     "output_type": "stream",
     "text": [
      "tensor([[[[ 1.0931,  1.9473,  0.5281,  ..., -2.1619,  0.0159,  1.2912],\n",
      "          [-0.7508,  1.6128,  1.1138,  ...,  0.1572, -1.3273,  0.3292],\n",
      "          [-0.9108, -1.4248,  0.0217,  ..., -0.7351, -0.5183, -2.4765],\n",
      "          ...,\n",
      "          [-0.1296,  0.1018, -2.0828,  ..., -0.7882,  0.5832,  0.0858],\n",
      "          [ 1.5648,  0.0435, -2.1508,  ..., -1.0347,  0.9916, -1.7814],\n",
      "          [-0.7199, -0.8287, -0.9071,  ..., -0.3492,  0.4882,  1.3846]]]])\n"
     ]
    }
   ],
   "source": [
    "input = torch.randn(1,1,32,32)\n",
    "print(input)"
   ]
  },
  {
   "cell_type": "code",
   "execution_count": 26,
   "id": "d209f324-b20d-4854-81f4-7075098e9a96",
   "metadata": {},
   "outputs": [
    {
     "name": "stdout",
     "output_type": "stream",
     "text": [
      "tensor([[ 0.0057,  0.0397, -0.0075,  0.0262, -0.0356, -0.0604,  0.1231, -0.0099,\n",
      "          0.0102,  0.0374]], grad_fn=<AddmmBackward0>)\n"
     ]
    }
   ],
   "source": [
    "out = net(input)\n",
    "print(out)"
   ]
  },
  {
   "cell_type": "code",
   "execution_count": null,
   "id": "9de30ce1-f346-43e1-b749-62c441a27aa0",
   "metadata": {},
   "outputs": [],
   "source": []
  }
 ],
 "metadata": {
  "kernelspec": {
   "display_name": "torch",
   "language": "python",
   "name": "torch"
  },
  "language_info": {
   "codemirror_mode": {
    "name": "ipython",
    "version": 3
   },
   "file_extension": ".py",
   "mimetype": "text/x-python",
   "name": "python",
   "nbconvert_exporter": "python",
   "pygments_lexer": "ipython3",
   "version": "3.9.21"
  }
 },
 "nbformat": 4,
 "nbformat_minor": 5
}
