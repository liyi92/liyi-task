{
 "cells": [
  {
   "cell_type": "code",
   "execution_count": 41,
   "id": "3a44b8f2-a283-44d4-991a-7bf20e116a09",
   "metadata": {},
   "outputs": [],
   "source": [
    "import torch\n",
    "x = [[1,2],[3,4],[5,6],[7,8]]\n",
    "y = [[3],[7],[11],[15]]"
   ]
  },
  {
   "cell_type": "code",
   "execution_count": 42,
   "id": "2e8bf4e3-7b52-4b47-9256-44a236c8fc93",
   "metadata": {},
   "outputs": [],
   "source": [
    "X = torch.tensor(x).float()\n",
    "Y = torch.tensor(y).float()"
   ]
  },
  {
   "cell_type": "code",
   "execution_count": 43,
   "id": "2e078600-8bc1-44be-9ed5-b13d3a34e883",
   "metadata": {},
   "outputs": [],
   "source": [
    "device = 'cuda' if torch.cuda.is_available() else 'cpu'\n",
    "X = X.to(device)\n",
    "Y = Y.to(device)"
   ]
  },
  {
   "cell_type": "code",
   "execution_count": 44,
   "id": "9b7bb04f-3c6d-4913-b73a-372fe24a7bf2",
   "metadata": {},
   "outputs": [],
   "source": [
    "from torch import nn"
   ]
  },
  {
   "cell_type": "code",
   "execution_count": 45,
   "id": "9953319d-cd02-4dbd-ac86-837b009cb179",
   "metadata": {},
   "outputs": [
    {
     "name": "stdout",
     "output_type": "stream",
     "text": [
      "Linear(in_features=2, out_features=7, bias=True)\n"
     ]
    }
   ],
   "source": [
    "class MyNeuralNet(nn.Module):\n",
    "    def __init__(self):\n",
    "        super().__init__()\n",
    "        self.input_to_hidden_layer = nn.Linear(2,8)\n",
    "        self.hidden_layer_activation = nn.ReLU()\n",
    "        self.hidden_to_output_layer = nn.Linear(8,1)\n",
    "    def forward(self, x):\n",
    "        x = self.input_to_hidden_layer(x)\n",
    "        x = self.hidden_layer_activation(x)\n",
    "        x = self.hidden_to_output_layer(x)\n",
    "        return x\n",
    "print(nn.Linear(2, 7))"
   ]
  },
  {
   "cell_type": "code",
   "execution_count": 46,
   "id": "5ef8f7b4-d29b-4aa8-baff-bc42863b0f13",
   "metadata": {},
   "outputs": [
    {
     "name": "stdout",
     "output_type": "stream",
     "text": [
      "Parameter containing:\n",
      "tensor([[ 0.3697, -0.4343],\n",
      "        [ 0.3398,  0.0915],\n",
      "        [ 0.2687,  0.2649],\n",
      "        [-0.5093,  0.6012],\n",
      "        [ 0.6679,  0.6382],\n",
      "        [ 0.4016,  0.1500],\n",
      "        [-0.4313, -0.0819],\n",
      "        [ 0.6581, -0.1315]], requires_grad=True)\n"
     ]
    }
   ],
   "source": [
    "mynet = MyNeuralNet().to(device)\n",
    "print(mynet.input_to_hidden_layer.weight)"
   ]
  },
  {
   "cell_type": "code",
   "execution_count": 47,
   "id": "f1776feb-f362-4890-83f8-d73d1354be3e",
   "metadata": {},
   "outputs": [
    {
     "name": "stdout",
     "output_type": "stream",
     "text": [
      "Parameter containing:\n",
      "tensor([[ 0.3697, -0.4343],\n",
      "        [ 0.3398,  0.0915],\n",
      "        [ 0.2687,  0.2649],\n",
      "        [-0.5093,  0.6012],\n",
      "        [ 0.6679,  0.6382],\n",
      "        [ 0.4016,  0.1500],\n",
      "        [-0.4313, -0.0819],\n",
      "        [ 0.6581, -0.1315]], requires_grad=True)\n",
      "Parameter containing:\n",
      "tensor([-0.6226,  0.1893,  0.6316,  0.0589, -0.5463, -0.6132, -0.2361, -0.0047],\n",
      "       requires_grad=True)\n",
      "Parameter containing:\n",
      "tensor([[ 0.0178,  0.2916,  0.3280,  0.2300,  0.2391, -0.2264, -0.0954, -0.1076]],\n",
      "       requires_grad=True)\n",
      "Parameter containing:\n",
      "tensor([0.0637], requires_grad=True)\n"
     ]
    }
   ],
   "source": [
    "mynet.parameters()\n",
    "for param in mynet.parameters():\n",
    "    print(param)"
   ]
  },
  {
   "cell_type": "code",
   "execution_count": 48,
   "id": "ff09d857-541f-4d31-b4dd-ad54a02248fe",
   "metadata": {},
   "outputs": [],
   "source": [
    "class MyNeuralNet(nn.Module):\n",
    "    def __init__(self):\n",
    "        super().__init__()\n",
    "        self.input_to_hidden_layer = nn.parameter(torch.rand(2,8))\n",
    "        self.hidden_layer_activation = nn.ReLU()\n",
    "        self.hidden_to_output_layer = nn.parameter(torch.rand(8,1))\n",
    "    def forward(self, x):\n",
    "        x = x @ self.input_to_hidden_layer\n",
    "        x = self.hidden_layer_activation(x)\n",
    "        x = x @ self.hidden_to_output_layer\n",
    "        return x"
   ]
  },
  {
   "cell_type": "code",
   "execution_count": 49,
   "id": "160ccf92-0f3a-4fe9-9c46-5aea009ac88e",
   "metadata": {},
   "outputs": [
    {
     "name": "stdout",
     "output_type": "stream",
     "text": [
      "tensor(53.6500, grad_fn=<MseLossBackward0>)\n"
     ]
    }
   ],
   "source": [
    "loss_func = nn.MSELoss()\n",
    "_Y = mynet(X)\n",
    "loss_value = loss_func(_Y,Y)\n",
    "print(loss_value)"
   ]
  },
  {
   "cell_type": "code",
   "execution_count": 50,
   "id": "5650142c-2461-4458-b3ab-a4aadabcd938",
   "metadata": {},
   "outputs": [
    {
     "data": {
      "image/png": "[encoded data removed]",
      "text/plain": [
       "<Figure size 640x480 with 1 Axes>"
      ]
     },
     "metadata": {},
     "output_type": "display_data"
    }
   ],
   "source": [
    "from torch.optim import SGD\n",
    "opt = SGD(mynet.parameters(), lr = 0.001)\n",
    "opt.zero_grad()\n",
    "loss_value = loss_func(mynet(X),Y)\n",
    "loss_value.backward()\n",
    "opt.step()\n",
    "loss_history = []\n",
    "for _ in range(50):\n",
    "    opt.zero_grad()\n",
    "    loss_value = loss_func(mynet(X),Y)\n",
    "    loss_value.backward()\n",
    "    opt.step()\n",
    "    loss_history.append(loss_value.item())\n",
    "import matplotlib.pyplot as plt\n",
    "plt.plot(loss_history)\n",
    "plt.title('Loss variation over increasing epochs')\n",
    "plt.xlabel('epochs')\n",
    "plt.ylabel('loss value')\n",
    "plt.show()"
   ]
  },
  {
   "cell_type": "code",
   "execution_count": 51,
   "id": "8d9812b8-57bc-4679-b746-304b3c33cb18",
   "metadata": {},
   "outputs": [],
   "source": [
    "from torch.utils.data import Dataset, DataLoader\n",
    "import torch\n",
    "import torch.nn as nn"
   ]
  },
  {
   "cell_type": "code",
   "execution_count": 52,
   "id": "a94b1000-01c6-4190-9c18-e50e4c1273a0",
   "metadata": {},
   "outputs": [],
   "source": [
    "x = [[1,2],[3,4],[5,6],[7,8]]\n",
    "y = [[3],[7],[11],[15]]\n",
    "\n",
    "X = torch.tensor(x).float()\n",
    "Y = torch.tensor(y).float()\n",
    "\n",
    "device = 'cuda' if torch.cuda.is_available() else 'cpu'\n",
    "X = X.to(device)\n",
    "Y = Y.to(device)"
   ]
  },
  {
   "cell_type": "code",
   "execution_count": 53,
   "id": "7f025cc7-4ec2-45b7-810a-509c767aa9e9",
   "metadata": {},
   "outputs": [
    {
     "name": "stdout",
     "output_type": "stream",
     "text": [
      "tensor([[5., 6.],\n",
      "        [3., 4.]]) tensor([[11.],\n",
      "        [ 7.]])\n",
      "tensor([[1., 2.],\n",
      "        [7., 8.]]) tensor([[ 3.],\n",
      "        [15.]])\n"
     ]
    }
   ],
   "source": [
    "class MyDataset(Dataset):\n",
    "    def __init__(self,x,y):\n",
    "        self.x = x.clone().detach() # torch.tensor(x).float()\n",
    "        self.y = y.clone().detach() # torch.tensor(y).float()\n",
    "    def __len__(self):\n",
    "        return len(self.x)\n",
    "    def __getitem__(self, ix):\n",
    "        return self.x[ix], self.y[ix]\n",
    "ds = MyDataset(X, Y)\n",
    "dl = DataLoader(ds, batch_size=2, shuffle=True)\n",
    "for x, y in dl:\n",
    "    print(x, y)"
   ]
  },
  {
   "cell_type": "code",
   "execution_count": 54,
   "id": "8e196d0c-ba6f-4f41-abbd-230db57449b8",
   "metadata": {},
   "outputs": [
    {
     "name": "stdout",
     "output_type": "stream",
     "text": [
      "0.04148077964782715\n"
     ]
    }
   ],
   "source": [
    "class MyNeuralNet(nn.Module):\n",
    "    def __init__(self):\n",
    "        super().__init__()\n",
    "        self.input_to_hidden_layer = nn.Linear(2,8)\n",
    "        self.hidden_layer_activation = nn.ReLU()\n",
    "        self.hidden_to_output_layer = nn.Linear(8,1)\n",
    "    def forward(self, x):\n",
    "        x = self.input_to_hidden_layer(x)\n",
    "        x = self.hidden_layer_activation(x)\n",
    "        x = self.hidden_to_output_layer(x)\n",
    "        return x\n",
    "mynet = MyNeuralNet().to(device)\n",
    "loss_func = nn.MSELoss()\n",
    "from torch.optim import SGD\n",
    "opt = SGD(mynet.parameters(), lr = 0.001)\n",
    "import time\n",
    "loss_history = []\n",
    "start = time.time()\n",
    "for _ in range(50):\n",
    "    for data in dl:\n",
    "        x, y = data\n",
    "        opt.zero_grad()\n",
    "        loss_value = loss_func(mynet(x),y)\n",
    "        loss_value.backward()\n",
    "        opt.step()\n",
    "        loss_history.append(loss_value.item())\n",
    "end = time.time()\n",
    "print(end - start)"
   ]
  },
  {
   "cell_type": "code",
   "execution_count": 55,
   "id": "df77fe3d-ec07-449a-9c6f-ca46331fe029",
   "metadata": {},
   "outputs": [
    {
     "name": "stdout",
     "output_type": "stream",
     "text": [
      "tensor([[20.9525]], grad_fn=<AddmmBackward0>)\n"
     ]
    }
   ],
   "source": [
    "val_x = [[10,11]]\n",
    "val_x = torch.tensor(val_x).float().to(device)\n",
    "print(mynet(val_x))"
   ]
  },
  {
   "cell_type": "code",
   "execution_count": 56,
   "id": "f7afa838-41fa-4be7-9787-7c558aa3e362",
   "metadata": {},
   "outputs": [
    {
     "name": "stdout",
     "output_type": "stream",
     "text": [
      "tensor([[ 0.0000,  0.2069,  0.4333,  2.6133,  0.0000,  0.0000,  0.0000,  0.0000],\n",
      "        [ 0.0000,  0.0000,  1.9001,  6.2739,  0.0000,  1.0219,  0.0000,  0.2386],\n",
      "        [ 0.0000,  0.0000,  3.3669,  9.9344,  0.0000,  2.0513,  0.0000,  0.8057],\n",
      "        [ 0.0000,  0.0000,  4.8337, 13.5950,  0.0000,  3.0806,  0.0000,  1.3728]],\n",
      "       grad_fn=<ReluBackward0>)\n"
     ]
    }
   ],
   "source": [
    "print(mynet.hidden_layer_activation(mynet.input_to_hidden_layer(X)))"
   ]
  },
  {
   "cell_type": "code",
   "execution_count": 57,
   "id": "0bedf942-474c-49b0-80f1-d2ee269aa55a",
   "metadata": {},
   "outputs": [
    {
     "name": "stdout",
     "output_type": "stream",
     "text": [
      "tensor([7.0239], grad_fn=<SelectBackward0>)\n"
     ]
    }
   ],
   "source": [
    "class MyNeuralNet(nn.Module):\n",
    "    def __init__(self):\n",
    "        super().__init__()\n",
    "        self.input_to_hidden_layer = nn.Linear(2,8)\n",
    "        self.hidden_layer_activation = nn.ReLU()\n",
    "        self.hidden_to_output_layer = nn.Linear(8,1)\n",
    "    def forward(self, x):\n",
    "        hidden1 = self.input_to_hidden_layer(x)\n",
    "        hidden2 = self.hidden_layer_activation(hidden1)\n",
    "        x = self.hidden_to_output_layer(hidden2)\n",
    "        return x, hidden2\n",
    "print(mynet(X)[1])"
   ]
  },
  {
   "cell_type": "code",
   "execution_count": 58,
   "id": "7cd14c27-af87-473d-8d24-4097e337b611",
   "metadata": {},
   "outputs": [],
   "source": [
    "import torch\n",
    "import torch.nn as nn\n",
    "import numpy as np\n",
    "from torch.utils.data import Dataset, DataLoader\n",
    "device = 'cuda' if torch.cuda.is_available() else 'cpu'"
   ]
  },
  {
   "cell_type": "code",
   "execution_count": 59,
   "id": "2f1ece84-fa1b-46a2-99e6-85a422c590bb",
   "metadata": {},
   "outputs": [],
   "source": [
    "x = [[1,2],[3,4],[5,6],[7,8]]\n",
    "y = [[3],[7],[11],[15]]\n",
    "\n",
    "class MyDataset(Dataset):\n",
    "    def __init__(self, x, y):\n",
    "        self.x = torch.tensor(x).float().to(device)\n",
    "        self.y = torch.tensor(y).float().to(device)\n",
    "    def __getitem__(self, ix):\n",
    "        return self.x[ix], self.y[ix]\n",
    "    def __len__(self): \n",
    "        return len(self.x)"
   ]
  },
  {
   "cell_type": "code",
   "execution_count": 60,
   "id": "5d864900-28a5-48be-a687-26b725ae1771",
   "metadata": {},
   "outputs": [],
   "source": [
    "ds = MyDataset(x, y)\n",
    "dl = DataLoader(ds, batch_size=2, shuffle=True)\n",
    "model = nn.Sequential(\n",
    "    nn.Linear(2, 8),\n",
    "    nn.ReLU(),\n",
    "    nn.Linear(8, 1)\n",
    ").to(device)"
   ]
  },
  {
   "cell_type": "code",
   "execution_count": 61,
   "id": "f83e92ae-caff-46e3-a286-6d8516eb677e",
   "metadata": {},
   "outputs": [
    {
     "name": "stdout",
     "output_type": "stream",
     "text": [
      "Requirement already satisfied: torchsummary in /home/liyi/miniforge/envs/torch/lib/python3.9/site-packages (1.5.1)\n",
      "Note: you may need to restart the kernel to use updated packages.\n"
     ]
    }
   ],
   "source": [
    "pip install torchsummary"
   ]
  },
  {
   "cell_type": "code",
   "execution_count": 62,
   "id": "b0b04986-36dc-46fc-9d02-56bd26b9b34d",
   "metadata": {},
   "outputs": [
    {
     "name": "stdout",
     "output_type": "stream",
     "text": [
      "----------------------------------------------------------------\n",
      "        Layer (type)               Output Shape         Param #\n",
      "================================================================\n",
      "            Linear-1                    [-1, 8]              24\n",
      "              ReLU-2                    [-1, 8]               0\n",
      "            Linear-3                    [-1, 1]               9\n",
      "================================================================\n",
      "Total params: 33\n",
      "Trainable params: 33\n",
      "Non-trainable params: 0\n",
      "----------------------------------------------------------------\n",
      "Input size (MB): 0.00\n",
      "Forward/backward pass size (MB): 0.00\n",
      "Params size (MB): 0.00\n",
      "Estimated Total Size (MB): 0.00\n",
      "----------------------------------------------------------------\n",
      "None\n"
     ]
    }
   ],
   "source": [
    "from torchsummary import summary\n",
    "print(summary(model, (2,)))"
   ]
  },
  {
   "cell_type": "code",
   "execution_count": 63,
   "id": "d9f4dd31-b8e8-4b45-926b-ed603d47adf5",
   "metadata": {},
   "outputs": [
    {
     "name": "stdout",
     "output_type": "stream",
     "text": [
      "0.04225349426269531\n"
     ]
    }
   ],
   "source": [
    "loss_func = nn.MSELoss()\n",
    "from torch.optim import SGD\n",
    "opt = SGD(model.parameters(), lr = 0.001)\n",
    "import time\n",
    "loss_history = []\n",
    "start = time.time()\n",
    "for _ in range(50):\n",
    "    for ix, iy in dl:\n",
    "        opt.zero_grad()\n",
    "        loss_value = loss_func(model(ix),iy)\n",
    "        loss_value.backward()\n",
    "        opt.step()\n",
    "        loss_history.append(loss_value.item())\n",
    "end = time.time()\n",
    "print(end - start)"
   ]
  },
  {
   "cell_type": "code",
   "execution_count": 64,
   "id": "da9ab2b1-7e44-4799-b02a-7ebd5262eb7e",
   "metadata": {},
   "outputs": [
    {
     "name": "stdout",
     "output_type": "stream",
     "text": [
      "tensor([[16.4078],\n",
      "        [19.9959],\n",
      "        [ 4.7392]], grad_fn=<AddmmBackward0>)\n"
     ]
    },
    {
     "data": {
      "text/plain": [
       "\"\\ntensor([[16.7774],\\n        [20.6186],\\n        [ 4.2415]], device='cuda:0', grad_fn=<AddmmBackward>)\\n\""
      ]
     },
     "execution_count": 64,
     "metadata": {},
     "output_type": "execute_result"
    }
   ],
   "source": [
    "val = [[8,9],[10,11],[1.5,2.5]]\n",
    "val = torch.tensor(val).float()\n",
    "print(model(val.to(device)))\n",
    "\"\"\"\n",
    "tensor([[16.7774],\n",
    "        [20.6186],\n",
    "        [ 4.2415]], device='cuda:0', grad_fn=<AddmmBackward>)\n",
    "\"\"\""
   ]
  },
  {
   "cell_type": "code",
   "execution_count": 65,
   "id": "a4ef7475-3e5c-4229-8dcb-83344bd21f1e",
   "metadata": {},
   "outputs": [
    {
     "name": "stdout",
     "output_type": "stream",
     "text": [
      "OrderedDict([('0.weight', tensor([[ 0.6059, -0.4322],\n",
      "        [-0.1862,  0.8682],\n",
      "        [ 0.7145,  0.6638],\n",
      "        [-0.5633, -0.1499],\n",
      "        [-0.0699,  0.1090],\n",
      "        [-0.3214, -0.5993],\n",
      "        [ 0.3722,  0.1774],\n",
      "        [ 0.2688, -0.5872]])), ('0.bias', tensor([-0.6759,  0.4308,  0.5722,  0.5055, -0.1425, -0.3093, -0.6747, -0.2187])), ('2.weight', tensor([[-0.0086,  0.5897,  0.9409, -0.0509, -0.0026,  0.0218,  0.1758,  0.3127]])), ('2.bias', tensor([0.2042]))])\n"
     ]
    },
    {
     "data": {
      "text/plain": [
       "\"\\nOrderedDict([('0.weight', tensor([[-0.4732,  0.1934],\\n        [ 0.1475, -0.2335],\\n        [-0.2586,  0.0823],\\n        [-0.2979, -0.5979],\\n        [ 0.2605,  0.2293],\\n        [ 0.0566,  0.6848],\\n        [-0.1116, -0.3301],\\n        [ 0.0324,  0.2609]], device='cuda:0')), ('0.bias', tensor([ 0.6835,  0.2860,  0.1953, -0.2162,  0.5106,  0.3625,  0.1360,  0.2495],\\n       device='cuda:0')), ('2.weight', tensor([[ 0.0475,  0.0664, -0.0167, -0.1608, -0.2412, -0.3332, -0.1607, -0.1857]],\\n       device='cuda:0')), ('2.bias', tensor([0.2595], device='cuda:0'))])\\n\""
      ]
     },
     "execution_count": 65,
     "metadata": {},
     "output_type": "execute_result"
    }
   ],
   "source": [
    "print(model.state_dict())\n",
    "\"\"\"\n",
    "OrderedDict([('0.weight', tensor([[-0.4732,  0.1934],\n",
    "        [ 0.1475, -0.2335],\n",
    "        [-0.2586,  0.0823],\n",
    "        [-0.2979, -0.5979],\n",
    "        [ 0.2605,  0.2293],\n",
    "        [ 0.0566,  0.6848],\n",
    "        [-0.1116, -0.3301],\n",
    "        [ 0.0324,  0.2609]], device='cuda:0')), ('0.bias', tensor([ 0.6835,  0.2860,  0.1953, -0.2162,  0.5106,  0.3625,  0.1360,  0.2495],\n",
    "       device='cuda:0')), ('2.weight', tensor([[ 0.0475,  0.0664, -0.0167, -0.1608, -0.2412, -0.3332, -0.1607, -0.1857]],\n",
    "       device='cuda:0')), ('2.bias', tensor([0.2595], device='cuda:0'))])\n",
    "\"\"\""
   ]
  },
  {
   "cell_type": "code",
   "execution_count": 66,
   "id": "b08c6d7c-0896-4750-815f-7dc90e9db2fb",
   "metadata": {},
   "outputs": [],
   "source": [
    "save_path = 'mymodel.pth'\n",
    "torch.save(model.state_dict(), save_path)"
   ]
  },
  {
   "cell_type": "code",
   "execution_count": 67,
   "id": "bd590309-94e9-45eb-9350-6dc4d72d3e51",
   "metadata": {},
   "outputs": [],
   "source": [
    "model = nn.Sequential(\n",
    "    nn.Linear(2, 8),\n",
    "    nn.ReLU(),\n",
    "    nn.Linear(8, 1)\n",
    ").to(device)\n"
   ]
  },
  {
   "cell_type": "code",
   "execution_count": 68,
   "id": "83c0b641-272b-48e6-8e2b-61356b6355d4",
   "metadata": {},
   "outputs": [],
   "source": [
    "state_dict = torch.load('mymodel.pth')"
   ]
  },
  {
   "cell_type": "code",
   "execution_count": 69,
   "id": "d1a51f7d-a997-43df-8b11-88d3ec173606",
   "metadata": {},
   "outputs": [
    {
     "data": {
      "text/plain": [
       "tensor([[16.4078],\n",
       "        [19.9959],\n",
       "        [ 4.7392]], grad_fn=<AddmmBackward0>)"
      ]
     },
     "execution_count": 69,
     "metadata": {},
     "output_type": "execute_result"
    }
   ],
   "source": [
    "model.load_state_dict(state_dict)\n",
    "model.to(device)\n",
    "\n",
    "val = [[8,9],[10,11],[1.5,2.5]]\n",
    "val = torch.tensor(val).float()\n",
    "model(val.to(device))"
   ]
  },
  {
   "cell_type": "code",
   "execution_count": null,
   "id": "9c7dd3d5-b823-430c-bdaa-7db22bacadcf",
   "metadata": {},
   "outputs": [],
   "source": []
  }
 ],
 "metadata": {
  "kernelspec": {
   "display_name": "torch",
   "language": "python",
   "name": "torch"
  },
  "language_info": {
   "codemirror_mode": {
    "name": "ipython",
    "version": 3
   },
   "file_extension": ".py",
   "mimetype": "text/x-python",
   "name": "python",
   "nbconvert_exporter": "python",
   "pygments_lexer": "ipython3",
   "version": "3.9.21"
  }
 },
 "nbformat": 4,
 "nbformat_minor": 5
}
