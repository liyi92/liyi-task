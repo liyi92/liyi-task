{
 "cells": [
  {
   "cell_type": "code",
   "execution_count": 22,
   "id": "b1de34af-69ce-4e56-a0e8-2f0e8afa6d25",
   "metadata": {},
   "outputs": [],
   "source": [
    "import torch\n",
    "from torch import nn\n",
    "import matplotlib.pyplot as plt"
   ]
  },
  {
   "cell_type": "code",
   "execution_count": 23,
   "id": "02f64574-58e8-4fdd-b7ee-dfb56a8f4307",
   "metadata": {},
   "outputs": [],
   "source": [
    "#sigmoid\n",
    "def sigmoid(x):\n",
    "     return 1/(1+np.exp(-x))"
   ]
  },
  {
   "cell_type": "code",
   "execution_count": 24,
   "id": "d4b8d1b9-c9a2-47b6-b7e0-2cf54aefaee5",
   "metadata": {},
   "outputs": [],
   "source": [
    "#Tanh\n",
    "def tanh(x):\n",
    "    return (np.exp(x) - np.exp(-x)) / (np.exp(x) + np.exp(-x))"
   ]
  },
  {
   "cell_type": "code",
   "execution_count": 25,
   "id": "133f04da-8228-4744-a0c4-5f33a30aa06c",
   "metadata": {},
   "outputs": [],
   "source": [
    "#ReLU\n",
    "def relu(x):\n",
    "    return np.where(x>0, x, 0)"
   ]
  },
  {
   "cell_type": "code",
   "execution_count": 26,
   "id": "43a01063-a19f-408e-b9ff-eab2cb172d89",
   "metadata": {},
   "outputs": [],
   "source": [
    "#Linear\n",
    "def linear(x):\n",
    "    return x"
   ]
  },
  {
   "cell_type": "code",
   "execution_count": 27,
   "id": "7b3f7aab-96d7-4f3e-ae7c-b563087f1e7a",
   "metadata": {},
   "outputs": [],
   "source": [
    "#softmax\n",
    "def softmax(x):\n",
    "    return np.exp(x) / np.sum(np.exp(x))"
   ]
  },
  {
   "cell_type": "code",
   "execution_count": 28,
   "id": "904adfa7-c53e-4c63-9636-27bf3f7bc0e6",
   "metadata": {},
   "outputs": [],
   "source": [
    "#MSE\n",
    "def mse(p, y):\n",
    "    return np.mean(np.square(p - y))"
   ]
  },
  {
   "cell_type": "code",
   "execution_count": 29,
   "id": "86cd14b2-8baf-4844-b9c9-db9828983a60",
   "metadata": {},
   "outputs": [],
   "source": [
    "#MAE\n",
    "def mae(p, y):\n",
    "    return np.mean(np.abs(p - y))"
   ]
  },
  {
   "cell_type": "code",
   "execution_count": 18,
   "id": "97acff6e-c372-4d26-a0ea-f03f3f8a6073",
   "metadata": {},
   "outputs": [],
   "source": [
    "#loss\n",
    "x = [[1,2],[3,4],[5,6],[7,8]]\n",
    "y = [[3],[7],[11],[15]]\n",
    "import torch\n",
    "X = torch.tensor(x).float()\n",
    "Y = torch.tensor(y).float()\n",
    "import torch.nn as nn\n",
    "device = 'cuda' if torch.cuda.is_available() else 'cpu'\n",
    "X = X.to(device)\n",
    "Y = Y.to(device) \n",
    "import torch.nn as nn\n",
    "from torch.utils.data import Dataset, DataLoader\n",
    "class MyDataset(Dataset):\n",
    "    def __init__(self,x,y):\n",
    "        self.x = x.clone().detach() # torch.tensor(x).float()\n",
    "        self.y = y.clone().detach() # torch.tensor(y).float()\n",
    "    def __len__(self):\n",
    "        return len(self.x)\n",
    "    def __getitem__(self, ix):\n",
    "        return self.x[ix], self.y[ix]\n",
    "ds = MyDataset(X, Y)\n",
    "dl = DataLoader(ds, batch_size=2, shuffle=True)\n",
    "class MyNeuralNet(nn.Module):\n",
    "    def __init__(self):\n",
    "        super().__init__()\n",
    "        self.input_to_hidden_layer = nn.Linear(2,8)\n",
    "        self.hidden_layer_activation = nn.ReLU()\n",
    "        self.hidden_to_output_layer = nn.Linear(8,1)\n",
    "    def forward(self, x):\n",
    "        x = self.input_to_hidden_layer(x)\n",
    "        x = self.hidden_layer_activation(x)\n",
    "        x = self.hidden_to_output_layer(x)\n",
    "        return x\n",
    "mynet = MyNeuralNet().to(device)"
   ]
  },
  {
   "cell_type": "code",
   "execution_count": 19,
   "id": "bd2e6e6a-5ead-4e26-995b-6a3668b458f9",
   "metadata": {},
   "outputs": [],
   "source": [
    "def my_mean_squared_error(_y, y):\n",
    "    loss = (_y-y)**2\n",
    "    loss = loss.mean()\n",
    "    return loss"
   ]
  },
  {
   "cell_type": "code",
   "execution_count": 20,
   "id": "b4aa2b3b-173f-46c8-9203-925d3883b7c0",
   "metadata": {},
   "outputs": [
    {
     "name": "stdout",
     "output_type": "stream",
     "text": [
      "tensor(68.0946, grad_fn=<MseLossBackward0>)\n"
     ]
    }
   ],
   "source": [
    "loss_func = nn.MSELoss()\n",
    "loss_value = loss_func(mynet(X),Y)\n",
    "print(loss_value)"
   ]
  },
  {
   "cell_type": "code",
   "execution_count": 21,
   "id": "25819c65-463e-4b09-aab4-5ccecec0b564",
   "metadata": {},
   "outputs": [
    {
     "name": "stdout",
     "output_type": "stream",
     "text": [
      "tensor(68.0946, grad_fn=<MeanBackward0>)\n"
     ]
    }
   ],
   "source": [
    "print(my_mean_squared_error(mynet(X),Y))"
   ]
  },
  {
   "cell_type": "code",
   "execution_count": null,
   "id": "24a9b7e2-c957-4408-9780-c058e9be1bf6",
   "metadata": {},
   "outputs": [],
   "source": []
  }
 ],
 "metadata": {
  "kernelspec": {
   "display_name": "torch",
   "language": "python",
   "name": "torch"
  },
  "language_info": {
   "codemirror_mode": {
    "name": "ipython",
    "version": 3
   },
   "file_extension": ".py",
   "mimetype": "text/x-python",
   "name": "python",
   "nbconvert_exporter": "python",
   "pygments_lexer": "ipython3",
   "version": "3.9.21"
  }
 },
 "nbformat": 4,
 "nbformat_minor": 5
}
